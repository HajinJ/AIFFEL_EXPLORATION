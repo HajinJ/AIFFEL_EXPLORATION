{
 "cells": [
  {
   "cell_type": "markdown",
   "metadata": {
    "id": "4dULCRBc5TXs"
   },
   "source": [
    "# 영화 추천 시스템\n",
    "## 1. 데이터 준비와 전처리"
   ]
  },
  {
   "cell_type": "code",
   "execution_count": 1,
   "metadata": {
    "id": "Be14ZSqv5TXu",
    "outputId": "b9264c13-9991-4972-b1e5-53276a453bf0",
    "scrolled": true
   },
   "outputs": [
    {
     "data": {
      "text/html": [
       "<div>\n",
       "<style scoped>\n",
       "    .dataframe tbody tr th:only-of-type {\n",
       "        vertical-align: middle;\n",
       "    }\n",
       "\n",
       "    .dataframe tbody tr th {\n",
       "        vertical-align: top;\n",
       "    }\n",
       "\n",
       "    .dataframe thead th {\n",
       "        text-align: right;\n",
       "    }\n",
       "</style>\n",
       "<table border=\"1\" class=\"dataframe\">\n",
       "  <thead>\n",
       "    <tr style=\"text-align: right;\">\n",
       "      <th></th>\n",
       "      <th>user_id</th>\n",
       "      <th>movie_id</th>\n",
       "      <th>rating</th>\n",
       "      <th>timestamp</th>\n",
       "    </tr>\n",
       "  </thead>\n",
       "  <tbody>\n",
       "    <tr>\n",
       "      <th>0</th>\n",
       "      <td>1</td>\n",
       "      <td>1193</td>\n",
       "      <td>5</td>\n",
       "      <td>978300760</td>\n",
       "    </tr>\n",
       "    <tr>\n",
       "      <th>1</th>\n",
       "      <td>1</td>\n",
       "      <td>661</td>\n",
       "      <td>3</td>\n",
       "      <td>978302109</td>\n",
       "    </tr>\n",
       "    <tr>\n",
       "      <th>2</th>\n",
       "      <td>1</td>\n",
       "      <td>914</td>\n",
       "      <td>3</td>\n",
       "      <td>978301968</td>\n",
       "    </tr>\n",
       "    <tr>\n",
       "      <th>3</th>\n",
       "      <td>1</td>\n",
       "      <td>3408</td>\n",
       "      <td>4</td>\n",
       "      <td>978300275</td>\n",
       "    </tr>\n",
       "    <tr>\n",
       "      <th>4</th>\n",
       "      <td>1</td>\n",
       "      <td>2355</td>\n",
       "      <td>5</td>\n",
       "      <td>978824291</td>\n",
       "    </tr>\n",
       "  </tbody>\n",
       "</table>\n",
       "</div>"
      ],
      "text/plain": [
       "   user_id  movie_id  rating  timestamp\n",
       "0        1      1193       5  978300760\n",
       "1        1       661       3  978302109\n",
       "2        1       914       3  978301968\n",
       "3        1      3408       4  978300275\n",
       "4        1      2355       5  978824291"
      ]
     },
     "execution_count": 1,
     "metadata": {},
     "output_type": "execute_result"
    }
   ],
   "source": [
    "import os\n",
    "import pandas as pd\n",
    "\n",
    "rating_file_path=os.getenv('HOME') + '/aiffel/recommendata_iu/data/ml-1m/ratings.dat'\n",
    "ratings_cols = ['user_id', 'movie_id', 'rating', 'timestamp']\n",
    "ratings = pd.read_csv(rating_file_path, sep='::', names=ratings_cols, engine='python')\n",
    "orginal_data_size = len(ratings)\n",
    "ratings.head()"
   ]
  },
  {
   "cell_type": "code",
   "execution_count": 2,
   "metadata": {
    "id": "OQcDiUFq5TXv",
    "outputId": "a44cb0e6-2da6-4fab-c967-4dfb3d9e0336"
   },
   "outputs": [
    {
     "name": "stdout",
     "output_type": "stream",
     "text": [
      "orginal_data_size: 1000209, filtered_data_size: 836478\n",
      "Ratio of Remaining Data is 83.63%\n"
     ]
    }
   ],
   "source": [
    "# 3점 이상만 남깁니다.\n",
    "ratings = ratings[ratings['rating']>=3]\n",
    "filtered_data_size = len(ratings)\n",
    "\n",
    "print(f'orginal_data_size: {orginal_data_size}, filtered_data_size: {filtered_data_size}')\n",
    "print(f'Ratio of Remaining Data is {filtered_data_size / orginal_data_size:.2%}')"
   ]
  },
  {
   "cell_type": "code",
   "execution_count": 3,
   "metadata": {
    "id": "iEpLsyhT5TXv"
   },
   "outputs": [],
   "source": [
    "# rating 컬럼의 이름을 count로 바꿉니다.\n",
    "ratings.rename(columns={'rating':'count'}, inplace=True)"
   ]
  },
  {
   "cell_type": "code",
   "execution_count": 4,
   "metadata": {
    "id": "-P2tDAtv5TXw",
    "outputId": "21bf80a8-0b94-4866-90d6-26fb1a01743c"
   },
   "outputs": [
    {
     "data": {
      "text/plain": [
       "0          5\n",
       "1          3\n",
       "2          3\n",
       "3          4\n",
       "4          5\n",
       "          ..\n",
       "1000203    3\n",
       "1000205    5\n",
       "1000206    5\n",
       "1000207    4\n",
       "1000208    4\n",
       "Name: count, Length: 836478, dtype: int64"
      ]
     },
     "execution_count": 4,
     "metadata": {},
     "output_type": "execute_result"
    }
   ],
   "source": [
    "ratings['count']"
   ]
  },
  {
   "cell_type": "code",
   "execution_count": 5,
   "metadata": {
    "id": "Wgri1yx45TXw",
    "outputId": "2994d7d7-1240-475d-818b-0514ede66698"
   },
   "outputs": [
    {
     "data": {
      "text/html": [
       "<div>\n",
       "<style scoped>\n",
       "    .dataframe tbody tr th:only-of-type {\n",
       "        vertical-align: middle;\n",
       "    }\n",
       "\n",
       "    .dataframe tbody tr th {\n",
       "        vertical-align: top;\n",
       "    }\n",
       "\n",
       "    .dataframe thead th {\n",
       "        text-align: right;\n",
       "    }\n",
       "</style>\n",
       "<table border=\"1\" class=\"dataframe\">\n",
       "  <thead>\n",
       "    <tr style=\"text-align: right;\">\n",
       "      <th></th>\n",
       "      <th>movie_id</th>\n",
       "      <th>title</th>\n",
       "      <th>genre</th>\n",
       "    </tr>\n",
       "  </thead>\n",
       "  <tbody>\n",
       "    <tr>\n",
       "      <th>0</th>\n",
       "      <td>1</td>\n",
       "      <td>Toy Story (1995)</td>\n",
       "      <td>Animation|Children's|Comedy</td>\n",
       "    </tr>\n",
       "    <tr>\n",
       "      <th>1</th>\n",
       "      <td>2</td>\n",
       "      <td>Jumanji (1995)</td>\n",
       "      <td>Adventure|Children's|Fantasy</td>\n",
       "    </tr>\n",
       "    <tr>\n",
       "      <th>2</th>\n",
       "      <td>3</td>\n",
       "      <td>Grumpier Old Men (1995)</td>\n",
       "      <td>Comedy|Romance</td>\n",
       "    </tr>\n",
       "    <tr>\n",
       "      <th>3</th>\n",
       "      <td>4</td>\n",
       "      <td>Waiting to Exhale (1995)</td>\n",
       "      <td>Comedy|Drama</td>\n",
       "    </tr>\n",
       "    <tr>\n",
       "      <th>4</th>\n",
       "      <td>5</td>\n",
       "      <td>Father of the Bride Part II (1995)</td>\n",
       "      <td>Comedy</td>\n",
       "    </tr>\n",
       "  </tbody>\n",
       "</table>\n",
       "</div>"
      ],
      "text/plain": [
       "   movie_id                               title                         genre\n",
       "0         1                    Toy Story (1995)   Animation|Children's|Comedy\n",
       "1         2                      Jumanji (1995)  Adventure|Children's|Fantasy\n",
       "2         3             Grumpier Old Men (1995)                Comedy|Romance\n",
       "3         4            Waiting to Exhale (1995)                  Comedy|Drama\n",
       "4         5  Father of the Bride Part II (1995)                        Comedy"
      ]
     },
     "execution_count": 5,
     "metadata": {},
     "output_type": "execute_result"
    }
   ],
   "source": [
    "# 영화 제목을 보기 위해 메타 데이터를 읽어옵니다.\n",
    "movie_file_path=os.getenv('HOME') + '/aiffel/recommendata_iu/data/ml-1m/movies.dat'\n",
    "cols = ['movie_id', 'title', 'genre'] \n",
    "movies = pd.read_csv(movie_file_path, sep='::', names=cols, engine='python',encoding = 'ISO-8859-1')\n",
    "movies.head()"
   ]
  },
  {
   "cell_type": "code",
   "execution_count": 6,
   "metadata": {
    "id": "nvDsaLEi5TXw",
    "outputId": "6e0ce09e-25ec-4eda-ef70-a51a9720891e",
    "scrolled": true
   },
   "outputs": [
    {
     "data": {
      "text/html": [
       "<div>\n",
       "<style scoped>\n",
       "    .dataframe tbody tr th:only-of-type {\n",
       "        vertical-align: middle;\n",
       "    }\n",
       "\n",
       "    .dataframe tbody tr th {\n",
       "        vertical-align: top;\n",
       "    }\n",
       "\n",
       "    .dataframe thead th {\n",
       "        text-align: right;\n",
       "    }\n",
       "</style>\n",
       "<table border=\"1\" class=\"dataframe\">\n",
       "  <thead>\n",
       "    <tr style=\"text-align: right;\">\n",
       "      <th></th>\n",
       "      <th>user_id</th>\n",
       "      <th>movie_id</th>\n",
       "      <th>count</th>\n",
       "      <th>timestamp</th>\n",
       "      <th>title</th>\n",
       "      <th>genre</th>\n",
       "    </tr>\n",
       "  </thead>\n",
       "  <tbody>\n",
       "    <tr>\n",
       "      <th>0</th>\n",
       "      <td>1</td>\n",
       "      <td>1193</td>\n",
       "      <td>5</td>\n",
       "      <td>978300760</td>\n",
       "      <td>One Flew Over the Cuckoo's Nest (1975)</td>\n",
       "      <td>Drama</td>\n",
       "    </tr>\n",
       "    <tr>\n",
       "      <th>1</th>\n",
       "      <td>1</td>\n",
       "      <td>661</td>\n",
       "      <td>3</td>\n",
       "      <td>978302109</td>\n",
       "      <td>James and the Giant Peach (1996)</td>\n",
       "      <td>Animation|Children's|Musical</td>\n",
       "    </tr>\n",
       "    <tr>\n",
       "      <th>2</th>\n",
       "      <td>1</td>\n",
       "      <td>914</td>\n",
       "      <td>3</td>\n",
       "      <td>978301968</td>\n",
       "      <td>My Fair Lady (1964)</td>\n",
       "      <td>Musical|Romance</td>\n",
       "    </tr>\n",
       "    <tr>\n",
       "      <th>3</th>\n",
       "      <td>1</td>\n",
       "      <td>3408</td>\n",
       "      <td>4</td>\n",
       "      <td>978300275</td>\n",
       "      <td>Erin Brockovich (2000)</td>\n",
       "      <td>Drama</td>\n",
       "    </tr>\n",
       "    <tr>\n",
       "      <th>4</th>\n",
       "      <td>1</td>\n",
       "      <td>2355</td>\n",
       "      <td>5</td>\n",
       "      <td>978824291</td>\n",
       "      <td>Bug's Life, A (1998)</td>\n",
       "      <td>Animation|Children's|Comedy</td>\n",
       "    </tr>\n",
       "  </tbody>\n",
       "</table>\n",
       "</div>"
      ],
      "text/plain": [
       "   user_id  movie_id  count  timestamp  \\\n",
       "0        1      1193      5  978300760   \n",
       "1        1       661      3  978302109   \n",
       "2        1       914      3  978301968   \n",
       "3        1      3408      4  978300275   \n",
       "4        1      2355      5  978824291   \n",
       "\n",
       "                                    title                         genre  \n",
       "0  One Flew Over the Cuckoo's Nest (1975)                         Drama  \n",
       "1        James and the Giant Peach (1996)  Animation|Children's|Musical  \n",
       "2                     My Fair Lady (1964)               Musical|Romance  \n",
       "3                  Erin Brockovich (2000)                         Drama  \n",
       "4                    Bug's Life, A (1998)   Animation|Children's|Comedy  "
      ]
     },
     "execution_count": 6,
     "metadata": {},
     "output_type": "execute_result"
    }
   ],
   "source": [
    "# 평점과 제목 데이터프레임 합치기\n",
    "ratings = ratings.join(movies.set_index('movie_id'), on='movie_id')\n",
    "ratings.head()"
   ]
  },
  {
   "cell_type": "code",
   "execution_count": 7,
   "metadata": {
    "id": "sxFOeoLG5TXw",
    "outputId": "b83e9d94-944c-4a6a-acbd-a4da29ce5279"
   },
   "outputs": [
    {
     "data": {
      "text/html": [
       "<div>\n",
       "<style scoped>\n",
       "    .dataframe tbody tr th:only-of-type {\n",
       "        vertical-align: middle;\n",
       "    }\n",
       "\n",
       "    .dataframe tbody tr th {\n",
       "        vertical-align: top;\n",
       "    }\n",
       "\n",
       "    .dataframe thead th {\n",
       "        text-align: right;\n",
       "    }\n",
       "</style>\n",
       "<table border=\"1\" class=\"dataframe\">\n",
       "  <thead>\n",
       "    <tr style=\"text-align: right;\">\n",
       "      <th></th>\n",
       "      <th>user_id</th>\n",
       "      <th>movie_id</th>\n",
       "      <th>count</th>\n",
       "      <th>title</th>\n",
       "    </tr>\n",
       "  </thead>\n",
       "  <tbody>\n",
       "    <tr>\n",
       "      <th>0</th>\n",
       "      <td>1</td>\n",
       "      <td>1193</td>\n",
       "      <td>5</td>\n",
       "      <td>One Flew Over the Cuckoo's Nest (1975)</td>\n",
       "    </tr>\n",
       "    <tr>\n",
       "      <th>1</th>\n",
       "      <td>1</td>\n",
       "      <td>661</td>\n",
       "      <td>3</td>\n",
       "      <td>James and the Giant Peach (1996)</td>\n",
       "    </tr>\n",
       "    <tr>\n",
       "      <th>2</th>\n",
       "      <td>1</td>\n",
       "      <td>914</td>\n",
       "      <td>3</td>\n",
       "      <td>My Fair Lady (1964)</td>\n",
       "    </tr>\n",
       "    <tr>\n",
       "      <th>3</th>\n",
       "      <td>1</td>\n",
       "      <td>3408</td>\n",
       "      <td>4</td>\n",
       "      <td>Erin Brockovich (2000)</td>\n",
       "    </tr>\n",
       "    <tr>\n",
       "      <th>4</th>\n",
       "      <td>1</td>\n",
       "      <td>2355</td>\n",
       "      <td>5</td>\n",
       "      <td>Bug's Life, A (1998)</td>\n",
       "    </tr>\n",
       "  </tbody>\n",
       "</table>\n",
       "</div>"
      ],
      "text/plain": [
       "   user_id  movie_id  count                                   title\n",
       "0        1      1193      5  One Flew Over the Cuckoo's Nest (1975)\n",
       "1        1       661      3        James and the Giant Peach (1996)\n",
       "2        1       914      3                     My Fair Lady (1964)\n",
       "3        1      3408      4                  Erin Brockovich (2000)\n",
       "4        1      2355      5                    Bug's Life, A (1998)"
      ]
     },
     "execution_count": 7,
     "metadata": {},
     "output_type": "execute_result"
    }
   ],
   "source": [
    "# 사용하지 않는 컬럼 제거\n",
    "ratings = ratings.drop(columns=['timestamp', 'genre'])\n",
    "ratings.head()"
   ]
  },
  {
   "cell_type": "markdown",
   "metadata": {
    "id": "OChEEZPm5TXx"
   },
   "source": [
    "## 2. 데이터 분석"
   ]
  },
  {
   "cell_type": "code",
   "execution_count": 8,
   "metadata": {
    "id": "oYfOxc6C5TXx",
    "outputId": "b3a22c1f-d9df-438f-bd68-caac3b8f5126"
   },
   "outputs": [
    {
     "data": {
      "text/plain": [
       "3628"
      ]
     },
     "execution_count": 8,
     "metadata": {},
     "output_type": "execute_result"
    }
   ],
   "source": [
    "# ratings에 있는 유니크한 영화 개수\n",
    "ratings['movie_id'].nunique()"
   ]
  },
  {
   "cell_type": "code",
   "execution_count": 9,
   "metadata": {
    "id": "zT5TOlhG5TXx",
    "outputId": "a1240d51-0236-455f-c10f-4981cb7c32ab"
   },
   "outputs": [
    {
     "data": {
      "text/plain": [
       "3628"
      ]
     },
     "execution_count": 9,
     "metadata": {},
     "output_type": "execute_result"
    }
   ],
   "source": [
    "# ratings에 있는 유니크한 영화 제목 수\n",
    "ratings['title'].nunique()"
   ]
  },
  {
   "cell_type": "code",
   "execution_count": 10,
   "metadata": {
    "id": "Ta2V30Az5TXy",
    "outputId": "d42e5f30-572e-4a9e-8c1f-07faf79fc6d2"
   },
   "outputs": [
    {
     "data": {
      "text/plain": [
       "6039"
      ]
     },
     "execution_count": 10,
     "metadata": {},
     "output_type": "execute_result"
    }
   ],
   "source": [
    "# rating에 있는 유니크한 사용자 수\n",
    "ratings['user_id'].nunique()"
   ]
  },
  {
   "cell_type": "code",
   "execution_count": 11,
   "metadata": {
    "id": "ekYDbsOU5TXy",
    "outputId": "5760fe0e-aec5-46da-bbb2-414ebdfc72e3"
   },
   "outputs": [
    {
     "data": {
      "text/plain": [
       "title\n",
       "American Beauty (1999)                                   3211\n",
       "Star Wars: Episode IV - A New Hope (1977)                2910\n",
       "Star Wars: Episode V - The Empire Strikes Back (1980)    2885\n",
       "Star Wars: Episode VI - Return of the Jedi (1983)        2716\n",
       "Saving Private Ryan (1998)                               2561\n",
       "Terminator 2: Judgment Day (1991)                        2509\n",
       "Silence of the Lambs, The (1991)                         2498\n",
       "Raiders of the Lost Ark (1981)                           2473\n",
       "Back to the Future (1985)                                2460\n",
       "Matrix, The (1999)                                       2434\n",
       "Jurassic Park (1993)                                     2413\n",
       "Sixth Sense, The (1999)                                  2385\n",
       "Fargo (1996)                                             2371\n",
       "Braveheart (1995)                                        2314\n",
       "Men in Black (1997)                                      2297\n",
       "Schindler's List (1993)                                  2257\n",
       "Princess Bride, The (1987)                               2252\n",
       "Shakespeare in Love (1998)                               2213\n",
       "L.A. Confidential (1997)                                 2210\n",
       "Shawshank Redemption, The (1994)                         2194\n",
       "Godfather, The (1972)                                    2167\n",
       "Groundhog Day (1993)                                     2121\n",
       "E.T. the Extra-Terrestrial (1982)                        2102\n",
       "Being John Malkovich (1999)                              2066\n",
       "Ghostbusters (1984)                                      2051\n",
       "Pulp Fiction (1994)                                      2030\n",
       "Forrest Gump (1994)                                      2022\n",
       "Terminator, The (1984)                                   2019\n",
       "Toy Story (1995)                                         2000\n",
       "Fugitive, The (1993)                                     1941\n",
       "Name: user_id, dtype: int64"
      ]
     },
     "execution_count": 11,
     "metadata": {},
     "output_type": "execute_result"
    }
   ],
   "source": [
    "# 가장 인기 있는 영화 30개\n",
    "movie_count = ratings.groupby('title')['user_id'].count()\n",
    "movie_count.sort_values(ascending=False).head(30)"
   ]
  },
  {
   "cell_type": "code",
   "execution_count": 12,
   "metadata": {
    "id": "pfwrk9dG5TXy",
    "outputId": "57c43a11-a638-4254-b36e-9fbfd550674d"
   },
   "outputs": [
    {
     "data": {
      "text/plain": [
       "count    6039.000000\n",
       "mean      138.512668\n",
       "std       156.241599\n",
       "min         1.000000\n",
       "25%        38.000000\n",
       "50%        81.000000\n",
       "75%       177.000000\n",
       "max      1968.000000\n",
       "Name: movie_id, dtype: float64"
      ]
     },
     "execution_count": 12,
     "metadata": {},
     "output_type": "execute_result"
    }
   ],
   "source": [
    "# 유저별 몇 편의 영화를 봤는지에 대한 통계\n",
    "user_count = ratings.groupby('user_id')['movie_id'].count()\n",
    "user_count.describe()"
   ]
  },
  {
   "cell_type": "markdown",
   "metadata": {
    "id": "FrYcGRup5TXy"
   },
   "source": [
    "## 3. 내가 선호하는 영화 추가"
   ]
  },
  {
   "cell_type": "code",
   "execution_count": 13,
   "metadata": {
    "id": "FWS5LwvU5TXz",
    "outputId": "83ec7b92-d6e0-44e5-9609-67586946d128"
   },
   "outputs": [
    {
     "data": {
      "text/html": [
       "<div>\n",
       "<style scoped>\n",
       "    .dataframe tbody tr th:only-of-type {\n",
       "        vertical-align: middle;\n",
       "    }\n",
       "\n",
       "    .dataframe tbody tr th {\n",
       "        vertical-align: top;\n",
       "    }\n",
       "\n",
       "    .dataframe thead th {\n",
       "        text-align: right;\n",
       "    }\n",
       "</style>\n",
       "<table border=\"1\" class=\"dataframe\">\n",
       "  <thead>\n",
       "    <tr style=\"text-align: right;\">\n",
       "      <th></th>\n",
       "      <th>movie_id</th>\n",
       "      <th>title</th>\n",
       "      <th>genre</th>\n",
       "    </tr>\n",
       "  </thead>\n",
       "  <tbody>\n",
       "    <tr>\n",
       "      <th>257</th>\n",
       "      <td>260</td>\n",
       "      <td>Star Wars: Episode IV - A New Hope (1977)</td>\n",
       "      <td>Action|Adventure|Fantasy|Sci-Fi</td>\n",
       "    </tr>\n",
       "    <tr>\n",
       "      <th>1178</th>\n",
       "      <td>1196</td>\n",
       "      <td>Star Wars: Episode V - The Empire Strikes Back...</td>\n",
       "      <td>Action|Adventure|Drama|Sci-Fi|War</td>\n",
       "    </tr>\n",
       "    <tr>\n",
       "      <th>1192</th>\n",
       "      <td>1210</td>\n",
       "      <td>Star Wars: Episode VI - Return of the Jedi (1983)</td>\n",
       "      <td>Action|Adventure|Romance|Sci-Fi|War</td>\n",
       "    </tr>\n",
       "    <tr>\n",
       "      <th>2559</th>\n",
       "      <td>2628</td>\n",
       "      <td>Star Wars: Episode I - The Phantom Menace (1999)</td>\n",
       "      <td>Action|Adventure|Fantasy|Sci-Fi</td>\n",
       "    </tr>\n",
       "  </tbody>\n",
       "</table>\n",
       "</div>"
      ],
      "text/plain": [
       "      movie_id                                              title  \\\n",
       "257        260          Star Wars: Episode IV - A New Hope (1977)   \n",
       "1178      1196  Star Wars: Episode V - The Empire Strikes Back...   \n",
       "1192      1210  Star Wars: Episode VI - Return of the Jedi (1983)   \n",
       "2559      2628   Star Wars: Episode I - The Phantom Menace (1999)   \n",
       "\n",
       "                                    genre  \n",
       "257       Action|Adventure|Fantasy|Sci-Fi  \n",
       "1178    Action|Adventure|Drama|Sci-Fi|War  \n",
       "1192  Action|Adventure|Romance|Sci-Fi|War  \n",
       "2559      Action|Adventure|Fantasy|Sci-Fi  "
      ]
     },
     "execution_count": 13,
     "metadata": {},
     "output_type": "execute_result"
    }
   ],
   "source": [
    "# 영화 제목 키워드로 검색\n",
    "movies[movies['title'].str.lower().str.contains('star wars', regex=False)]"
   ]
  },
  {
   "cell_type": "code",
   "execution_count": 14,
   "metadata": {
    "id": "KYLmGgO25TXz",
    "outputId": "284e87db-ca9e-44fb-c0eb-2a842c2dad4d"
   },
   "outputs": [
    {
     "data": {
      "text/html": [
       "<div>\n",
       "<style scoped>\n",
       "    .dataframe tbody tr th:only-of-type {\n",
       "        vertical-align: middle;\n",
       "    }\n",
       "\n",
       "    .dataframe tbody tr th {\n",
       "        vertical-align: top;\n",
       "    }\n",
       "\n",
       "    .dataframe thead th {\n",
       "        text-align: right;\n",
       "    }\n",
       "</style>\n",
       "<table border=\"1\" class=\"dataframe\">\n",
       "  <thead>\n",
       "    <tr style=\"text-align: right;\">\n",
       "      <th></th>\n",
       "      <th>user_id</th>\n",
       "      <th>movie_id</th>\n",
       "      <th>count</th>\n",
       "      <th>title</th>\n",
       "    </tr>\n",
       "  </thead>\n",
       "  <tbody>\n",
       "    <tr>\n",
       "      <th>0</th>\n",
       "      <td>HajinJ</td>\n",
       "      <td>506</td>\n",
       "      <td>5</td>\n",
       "      <td>Orlando (1993)</td>\n",
       "    </tr>\n",
       "    <tr>\n",
       "      <th>1</th>\n",
       "      <td>HajinJ</td>\n",
       "      <td>329</td>\n",
       "      <td>5</td>\n",
       "      <td>Star Trek: Generations (1994)</td>\n",
       "    </tr>\n",
       "    <tr>\n",
       "      <th>2</th>\n",
       "      <td>HajinJ</td>\n",
       "      <td>118</td>\n",
       "      <td>5</td>\n",
       "      <td>If Lucy Fell (1996)</td>\n",
       "    </tr>\n",
       "    <tr>\n",
       "      <th>3</th>\n",
       "      <td>HajinJ</td>\n",
       "      <td>1203</td>\n",
       "      <td>5</td>\n",
       "      <td>12 Angry Men (1957)</td>\n",
       "    </tr>\n",
       "    <tr>\n",
       "      <th>4</th>\n",
       "      <td>HajinJ</td>\n",
       "      <td>777</td>\n",
       "      <td>5</td>\n",
       "      <td>Pharaoh's Army (1995)</td>\n",
       "    </tr>\n",
       "  </tbody>\n",
       "</table>\n",
       "</div>"
      ],
      "text/plain": [
       "  user_id  movie_id  count                          title\n",
       "0  HajinJ       506      5                 Orlando (1993)\n",
       "1  HajinJ       329      5  Star Trek: Generations (1994)\n",
       "2  HajinJ       118      5            If Lucy Fell (1996)\n",
       "3  HajinJ      1203      5            12 Angry Men (1957)\n",
       "4  HajinJ       777      5          Pharaoh's Army (1995)"
      ]
     },
     "execution_count": 14,
     "metadata": {},
     "output_type": "execute_result"
    }
   ],
   "source": [
    "# 내가 좋아하는 영화 5편의 id와 title 리스트 만들기\n",
    "my_favorite_id = [506, 329, 118 , 1203, 777]\n",
    "\n",
    "my_favorite_title = []\n",
    "for i in my_favorite_id:\n",
    "    my_favorite_title.extend(list(movies[movies['movie_id'] == i]['title']))\n",
    "\n",
    "# 'HajinJ'라는 user_id가 위 5편의 영화를 5번씩 봤다고 가정\n",
    "my_movielist = pd.DataFrame({'user_id': ['HajinJ']*5, 'movie_id': my_favorite_id, 'count': [5]*5, 'title': my_favorite_title})\n",
    "my_movielist"
   ]
  },
  {
   "cell_type": "code",
   "execution_count": 15,
   "metadata": {
    "id": "Vg8muYca5TXz",
    "outputId": "cb443b05-6c88-46d4-8128-c5098a7efce9"
   },
   "outputs": [
    {
     "data": {
      "text/html": [
       "<div>\n",
       "<style scoped>\n",
       "    .dataframe tbody tr th:only-of-type {\n",
       "        vertical-align: middle;\n",
       "    }\n",
       "\n",
       "    .dataframe tbody tr th {\n",
       "        vertical-align: top;\n",
       "    }\n",
       "\n",
       "    .dataframe thead th {\n",
       "        text-align: right;\n",
       "    }\n",
       "</style>\n",
       "<table border=\"1\" class=\"dataframe\">\n",
       "  <thead>\n",
       "    <tr style=\"text-align: right;\">\n",
       "      <th></th>\n",
       "      <th>user_id</th>\n",
       "      <th>movie_id</th>\n",
       "      <th>count</th>\n",
       "      <th>title</th>\n",
       "    </tr>\n",
       "  </thead>\n",
       "  <tbody>\n",
       "    <tr>\n",
       "      <th>836473</th>\n",
       "      <td>6040</td>\n",
       "      <td>1090</td>\n",
       "      <td>3</td>\n",
       "      <td>Platoon (1986)</td>\n",
       "    </tr>\n",
       "    <tr>\n",
       "      <th>836474</th>\n",
       "      <td>6040</td>\n",
       "      <td>1094</td>\n",
       "      <td>5</td>\n",
       "      <td>Crying Game, The (1992)</td>\n",
       "    </tr>\n",
       "    <tr>\n",
       "      <th>836475</th>\n",
       "      <td>6040</td>\n",
       "      <td>562</td>\n",
       "      <td>5</td>\n",
       "      <td>Welcome to the Dollhouse (1995)</td>\n",
       "    </tr>\n",
       "    <tr>\n",
       "      <th>836476</th>\n",
       "      <td>6040</td>\n",
       "      <td>1096</td>\n",
       "      <td>4</td>\n",
       "      <td>Sophie's Choice (1982)</td>\n",
       "    </tr>\n",
       "    <tr>\n",
       "      <th>836477</th>\n",
       "      <td>6040</td>\n",
       "      <td>1097</td>\n",
       "      <td>4</td>\n",
       "      <td>E.T. the Extra-Terrestrial (1982)</td>\n",
       "    </tr>\n",
       "    <tr>\n",
       "      <th>836478</th>\n",
       "      <td>HajinJ</td>\n",
       "      <td>506</td>\n",
       "      <td>5</td>\n",
       "      <td>Orlando (1993)</td>\n",
       "    </tr>\n",
       "    <tr>\n",
       "      <th>836479</th>\n",
       "      <td>HajinJ</td>\n",
       "      <td>329</td>\n",
       "      <td>5</td>\n",
       "      <td>Star Trek: Generations (1994)</td>\n",
       "    </tr>\n",
       "    <tr>\n",
       "      <th>836480</th>\n",
       "      <td>HajinJ</td>\n",
       "      <td>118</td>\n",
       "      <td>5</td>\n",
       "      <td>If Lucy Fell (1996)</td>\n",
       "    </tr>\n",
       "    <tr>\n",
       "      <th>836481</th>\n",
       "      <td>HajinJ</td>\n",
       "      <td>1203</td>\n",
       "      <td>5</td>\n",
       "      <td>12 Angry Men (1957)</td>\n",
       "    </tr>\n",
       "    <tr>\n",
       "      <th>836482</th>\n",
       "      <td>HajinJ</td>\n",
       "      <td>777</td>\n",
       "      <td>5</td>\n",
       "      <td>Pharaoh's Army (1995)</td>\n",
       "    </tr>\n",
       "  </tbody>\n",
       "</table>\n",
       "</div>"
      ],
      "text/plain": [
       "       user_id  movie_id  count                              title\n",
       "836473    6040      1090      3                     Platoon (1986)\n",
       "836474    6040      1094      5            Crying Game, The (1992)\n",
       "836475    6040       562      5    Welcome to the Dollhouse (1995)\n",
       "836476    6040      1096      4             Sophie's Choice (1982)\n",
       "836477    6040      1097      4  E.T. the Extra-Terrestrial (1982)\n",
       "836478  HajinJ       506      5                     Orlando (1993)\n",
       "836479  HajinJ       329      5      Star Trek: Generations (1994)\n",
       "836480  HajinJ       118      5                If Lucy Fell (1996)\n",
       "836481  HajinJ      1203      5                12 Angry Men (1957)\n",
       "836482  HajinJ       777      5              Pharaoh's Army (1995)"
      ]
     },
     "execution_count": 15,
     "metadata": {},
     "output_type": "execute_result"
    }
   ],
   "source": [
    "if not ratings.isin({'user_id':['HajinJ']})['user_id'].any():  # user_id에 'HajinJ'라는 데이터가 없다면\n",
    "    ratings = ratings.append(my_movielist, ignore_index=True)   # 위에 임의로 만든 my_favorite 데이터를 추가해 줍니다. \n",
    "\n",
    "ratings.tail(10)       # 잘 추가되었는지 확인해 봅시다."
   ]
  },
  {
   "cell_type": "markdown",
   "metadata": {
    "id": "Cw5Vai_G5TXz"
   },
   "source": [
    "## 4. indexing 후 CSR matrix 생성"
   ]
  },
  {
   "cell_type": "code",
   "execution_count": 16,
   "metadata": {
    "id": "3SlZ5UYY5TX0"
   },
   "outputs": [],
   "source": [
    "# 고유한 유저와 영화의 개수\n",
    "user_unique = ratings['user_id'].unique()\n",
    "movie_unique = ratings['title'].unique()\n",
    "\n",
    "# 고유한 값의 개수만큼 유저 id와 영화 제목을 indexing\n",
    "user_to_idx = {v:k for k,v in enumerate(user_unique)}\n",
    "movie_to_idx = {v:k for k,v in enumerate(movie_unique)}"
   ]
  },
  {
   "cell_type": "code",
   "execution_count": 17,
   "metadata": {
    "id": "1rEX6iJv5TX0",
    "outputId": "c5abce19-e5eb-4b49-a91f-779f69a7e925"
   },
   "outputs": [
    {
     "name": "stdout",
     "output_type": "stream",
     "text": [
      "user_id column indexing OK!!\n",
      "title column indexing OK!!\n"
     ]
    },
    {
     "data": {
      "text/html": [
       "<div>\n",
       "<style scoped>\n",
       "    .dataframe tbody tr th:only-of-type {\n",
       "        vertical-align: middle;\n",
       "    }\n",
       "\n",
       "    .dataframe tbody tr th {\n",
       "        vertical-align: top;\n",
       "    }\n",
       "\n",
       "    .dataframe thead th {\n",
       "        text-align: right;\n",
       "    }\n",
       "</style>\n",
       "<table border=\"1\" class=\"dataframe\">\n",
       "  <thead>\n",
       "    <tr style=\"text-align: right;\">\n",
       "      <th></th>\n",
       "      <th>user_id</th>\n",
       "      <th>movie_id</th>\n",
       "      <th>count</th>\n",
       "      <th>title</th>\n",
       "    </tr>\n",
       "  </thead>\n",
       "  <tbody>\n",
       "    <tr>\n",
       "      <th>0</th>\n",
       "      <td>0</td>\n",
       "      <td>1193</td>\n",
       "      <td>5</td>\n",
       "      <td>0</td>\n",
       "    </tr>\n",
       "    <tr>\n",
       "      <th>1</th>\n",
       "      <td>0</td>\n",
       "      <td>661</td>\n",
       "      <td>3</td>\n",
       "      <td>1</td>\n",
       "    </tr>\n",
       "    <tr>\n",
       "      <th>2</th>\n",
       "      <td>0</td>\n",
       "      <td>914</td>\n",
       "      <td>3</td>\n",
       "      <td>2</td>\n",
       "    </tr>\n",
       "    <tr>\n",
       "      <th>3</th>\n",
       "      <td>0</td>\n",
       "      <td>3408</td>\n",
       "      <td>4</td>\n",
       "      <td>3</td>\n",
       "    </tr>\n",
       "    <tr>\n",
       "      <th>4</th>\n",
       "      <td>0</td>\n",
       "      <td>2355</td>\n",
       "      <td>5</td>\n",
       "      <td>4</td>\n",
       "    </tr>\n",
       "    <tr>\n",
       "      <th>...</th>\n",
       "      <td>...</td>\n",
       "      <td>...</td>\n",
       "      <td>...</td>\n",
       "      <td>...</td>\n",
       "    </tr>\n",
       "    <tr>\n",
       "      <th>836478</th>\n",
       "      <td>6039</td>\n",
       "      <td>506</td>\n",
       "      <td>5</td>\n",
       "      <td>215</td>\n",
       "    </tr>\n",
       "    <tr>\n",
       "      <th>836479</th>\n",
       "      <td>6039</td>\n",
       "      <td>329</td>\n",
       "      <td>5</td>\n",
       "      <td>558</td>\n",
       "    </tr>\n",
       "    <tr>\n",
       "      <th>836480</th>\n",
       "      <td>6039</td>\n",
       "      <td>118</td>\n",
       "      <td>5</td>\n",
       "      <td>1264</td>\n",
       "    </tr>\n",
       "    <tr>\n",
       "      <th>836481</th>\n",
       "      <td>6039</td>\n",
       "      <td>1203</td>\n",
       "      <td>5</td>\n",
       "      <td>653</td>\n",
       "    </tr>\n",
       "    <tr>\n",
       "      <th>836482</th>\n",
       "      <td>6039</td>\n",
       "      <td>777</td>\n",
       "      <td>5</td>\n",
       "      <td>3628</td>\n",
       "    </tr>\n",
       "  </tbody>\n",
       "</table>\n",
       "<p>836483 rows × 4 columns</p>\n",
       "</div>"
      ],
      "text/plain": [
       "        user_id  movie_id  count  title\n",
       "0             0      1193      5      0\n",
       "1             0       661      3      1\n",
       "2             0       914      3      2\n",
       "3             0      3408      4      3\n",
       "4             0      2355      5      4\n",
       "...         ...       ...    ...    ...\n",
       "836478     6039       506      5    215\n",
       "836479     6039       329      5    558\n",
       "836480     6039       118      5   1264\n",
       "836481     6039      1203      5    653\n",
       "836482     6039       777      5   3628\n",
       "\n",
       "[836483 rows x 4 columns]"
      ]
     },
     "execution_count": 17,
     "metadata": {},
     "output_type": "execute_result"
    }
   ],
   "source": [
    "# 데이터 컬럼 내 값을 indexing된 값으로 교체\n",
    "\n",
    "# user_to_idx.get을 통해 user_id 컬럼의 모든 값을 인덱싱한 Series를 구해 봅시다. \n",
    "# 혹시 정상적으로 인덱싱되지 않은 row가 있다면 인덱스가 NaN이 될 테니 dropna()로 제거합니다. \n",
    "temp_user_data = ratings['user_id'].map(user_to_idx.get).dropna()\n",
    "if len(temp_user_data) == len(ratings):   # 모든 row가 정상적으로 인덱싱되었다면\n",
    "    print('user_id column indexing OK!!')\n",
    "    ratings['user_id'] = temp_user_data   # data['user_id']을 인덱싱된 Series로 교체해 줍니다. \n",
    "else:\n",
    "    print('user_id column indexing Fail!!')\n",
    "\n",
    "# movie_to_idx을 통해 title 컬럼도 동일한 방식으로 인덱싱해 줍니다. \n",
    "temp_movie_data = ratings['title'].map(movie_to_idx.get).dropna()\n",
    "if len(temp_movie_data) == len(ratings):\n",
    "    print('title column indexing OK!!')\n",
    "    ratings['title'] = temp_movie_data\n",
    "else:\n",
    "    print('title column indexing Fail!!')\n",
    "\n",
    "ratings"
   ]
  },
  {
   "cell_type": "code",
   "execution_count": 18,
   "metadata": {
    "id": "CQ227uA05TX0",
    "outputId": "7ba391d0-350e-485c-fdd9-ac40ac0327fa",
    "scrolled": true
   },
   "outputs": [
    {
     "data": {
      "text/plain": [
       "<6040x3629 sparse matrix of type '<class 'numpy.int64'>'\n",
       "\twith 836483 stored elements in Compressed Sparse Row format>"
      ]
     },
     "execution_count": 18,
     "metadata": {},
     "output_type": "execute_result"
    }
   ],
   "source": [
    "from scipy.sparse import csr_matrix\n",
    "\n",
    "# CSR Matrix 생성\n",
    "num_user = ratings['user_id'].nunique()\n",
    "num_movie = ratings['title'].nunique()\n",
    "\n",
    "csr_data = csr_matrix((ratings['count'], (ratings.user_id, ratings.title)), shape= (num_user, num_movie))\n",
    "csr_data"
   ]
  },
  {
   "cell_type": "markdown",
   "metadata": {
    "id": "-MGUrLVS5TX1"
   },
   "source": [
    "## 5. AlternatingLeastSquares 모델 훈련시키기"
   ]
  },
  {
   "cell_type": "code",
   "execution_count": 19,
   "metadata": {
    "id": "KuZLwYIU5TX1"
   },
   "outputs": [],
   "source": [
    "from implicit.als import AlternatingLeastSquares\n",
    "import os\n",
    "import numpy as np\n",
    "\n",
    "# implicit 라이브러리에서 권장하고 있는 부분입니다. 학습 내용과는 무관합니다.\n",
    "os.environ['OPENBLAS_NUM_THREADS']='1'\n",
    "os.environ['KMP_DUPLICATE_LIB_OK']='True'\n",
    "os.environ['MKL_NUM_THREADS']='1'"
   ]
  },
  {
   "cell_type": "code",
   "execution_count": 20,
   "metadata": {
    "id": "HbeCdozI5TX1"
   },
   "outputs": [],
   "source": [
    "# Implicit AlternatingLeastSquares 모델의 선언\n",
    "als_model = AlternatingLeastSquares(factors=100, regularization=0.01, use_gpu=False, iterations=15, dtype=np.float32)"
   ]
  },
  {
   "cell_type": "code",
   "execution_count": 21,
   "metadata": {
    "id": "GZYrpQtE5TX1",
    "outputId": "667ec2eb-7a0b-44f3-f018-8fcda4f127ff"
   },
   "outputs": [
    {
     "data": {
      "text/plain": [
       "<3629x6040 sparse matrix of type '<class 'numpy.int64'>'\n",
       "\twith 836483 stored elements in Compressed Sparse Column format>"
      ]
     },
     "execution_count": 21,
     "metadata": {},
     "output_type": "execute_result"
    }
   ],
   "source": [
    "# als 모델은 input으로 item X user 꼴의 matrix를 받기 때문에 Transpose해줍니다.\n",
    "csr_data_transpose = csr_data.T\n",
    "csr_data_transpose"
   ]
  },
  {
   "cell_type": "code",
   "execution_count": 22,
   "metadata": {
    "colab": {
     "referenced_widgets": [
      "a09bf0a19afa4f8fb24a7487a4288915"
     ]
    },
    "id": "3jcIBWbd5TX1",
    "outputId": "4a0f1a3e-2f20-45f3-d6c8-a6915a04c7d9"
   },
   "outputs": [
    {
     "data": {
      "application/vnd.jupyter.widget-view+json": {
       "model_id": "40800597528e4c88932cc48e92d648d2",
       "version_major": 2,
       "version_minor": 0
      },
      "text/plain": [
       "  0%|          | 0/15 [00:00<?, ?it/s]"
      ]
     },
     "metadata": {},
     "output_type": "display_data"
    }
   ],
   "source": [
    "# 모델 훈련\n",
    "als_model.fit(csr_data_transpose)"
   ]
  },
  {
   "cell_type": "markdown",
   "metadata": {
    "id": "9EexsB_x5TX2"
   },
   "source": [
    "## 6. 훈련된 모델이 예측한 나의 선호도 파악"
   ]
  },
  {
   "cell_type": "code",
   "execution_count": 23,
   "metadata": {
    "id": "7ACQ0SIa5TX2"
   },
   "outputs": [],
   "source": [
    "# 훈련된 모델이 만든 나의 벡터와 영화 벡터 구하기\n",
    "HajinJ, star_trek = user_to_idx['HajinJ'], movie_to_idx['Star Trek: Generations (1994)']\n",
    "HajinJ_vector, star_trek_vector = als_model.user_factors[HajinJ], als_model.item_factors[star_trek]"
   ]
  },
  {
   "cell_type": "code",
   "execution_count": 24,
   "metadata": {
    "id": "6-Ch57aQ5TX2",
    "outputId": "2aaa0cc8-87ad-49e8-d16e-08baa6df5725"
   },
   "outputs": [
    {
     "data": {
      "text/plain": [
       "array([ 4.48896170e-01,  8.40168148e-02, -4.17887479e-01,  1.71655729e-01,\n",
       "        5.00877528e-03,  2.40890440e-02,  3.15483630e-01,  6.51768669e-02,\n",
       "        9.10709947e-02, -3.33983958e-01,  2.89366901e-01,  4.93275821e-01,\n",
       "        4.43770617e-01,  1.07495859e-03,  4.38158989e-01,  2.86489636e-01,\n",
       "       -2.89361417e-01,  2.93684870e-01, -1.91965029e-01,  1.38539793e-02,\n",
       "       -2.65937388e-01,  5.85881472e-01, -2.99357265e-01,  2.34048128e-01,\n",
       "       -3.46339524e-01,  2.54105568e-01,  1.81027092e-02,  3.74945551e-01,\n",
       "       -4.76025701e-01, -4.64201033e-01, -6.51710015e-03,  2.25439802e-01,\n",
       "       -3.35303694e-01,  7.84168720e-01,  2.72727132e-01, -4.43724960e-01,\n",
       "        3.38013321e-01,  8.56443122e-02,  2.60660678e-01,  7.03890622e-02,\n",
       "       -4.55014482e-02,  3.74829054e-01, -2.70751268e-01,  6.26667142e-02,\n",
       "        6.82308972e-02, -4.43704247e-01,  2.39492908e-01, -1.37825325e-01,\n",
       "       -1.79908901e-01,  1.48758397e-01,  5.92891201e-02, -1.25817537e-01,\n",
       "       -3.04726034e-01, -1.32450955e-02,  3.07973355e-01, -5.89322507e-01,\n",
       "       -4.63015318e-01,  1.60782963e-01,  3.01739722e-01, -2.96336949e-01,\n",
       "        3.42173964e-01, -2.90772855e-01, -5.81553280e-01,  1.07690048e+00,\n",
       "       -2.26660073e-01,  2.33910874e-01, -7.15211451e-01, -3.38844329e-01,\n",
       "       -1.95158139e-01, -1.08329222e-01,  1.50525376e-01,  2.48315502e-02,\n",
       "       -2.98088286e-02, -4.98796672e-01,  1.56356022e-02, -6.90348268e-01,\n",
       "       -4.76134807e-01,  6.40956461e-01,  6.26742542e-02,  4.42475855e-01,\n",
       "        3.50461937e-02, -1.49030373e-01, -3.26006651e-01,  3.91305327e-01,\n",
       "       -5.17679870e-01, -1.95567518e-01, -3.71286780e-01, -2.72784084e-02,\n",
       "        2.47881442e-01,  3.96283805e-01,  4.56156194e-01, -2.08060995e-01,\n",
       "        4.94953953e-02,  1.68698236e-01, -1.61529630e-02, -5.25255203e-02,\n",
       "        3.05574417e-01,  2.42966712e-01,  3.02092671e-01, -4.67456341e-01],\n",
       "      dtype=float32)"
      ]
     },
     "execution_count": 24,
     "metadata": {},
     "output_type": "execute_result"
    }
   ],
   "source": [
    "HajinJ_vector   # 나의 벡터"
   ]
  },
  {
   "cell_type": "code",
   "execution_count": 25,
   "metadata": {
    "id": "DE7L-fei5TX2",
    "outputId": "e1a956ed-fb6a-43a3-8eb9-1e74fb399ca6"
   },
   "outputs": [
    {
     "data": {
      "text/plain": [
       "array([ 0.01120893,  0.00461602,  0.01980377, -0.00336151,  0.00817345,\n",
       "        0.00920888,  0.01340752, -0.01062332,  0.0123034 ,  0.01284194,\n",
       "        0.00968032,  0.00702211,  0.02545374,  0.02464304,  0.01955541,\n",
       "        0.01288115, -0.01122258, -0.01213378, -0.01135531,  0.01081989,\n",
       "       -0.00831717,  0.00063565, -0.00815744,  0.0228998 , -0.01940267,\n",
       "        0.01719087,  0.01012972,  0.03071558, -0.008157  ,  0.00345673,\n",
       "        0.01038576,  0.01276994, -0.00487184,  0.02299052,  0.00564004,\n",
       "        0.01189412,  0.01791419,  0.00426435,  0.02565641,  0.01423572,\n",
       "       -0.00757588,  0.05405318, -0.00626657,  0.00129921, -0.00188276,\n",
       "       -0.02572905,  0.02687287,  0.01183492, -0.00595451,  0.00994767,\n",
       "        0.01437533,  0.00746818, -0.01176859, -0.00571443,  0.0140321 ,\n",
       "       -0.01601525,  0.00538859,  0.02285075, -0.00870795,  0.00214138,\n",
       "        0.03730858,  0.00668663, -0.02258314,  0.03525269,  0.01263063,\n",
       "        0.02291804, -0.00442981, -0.01388126, -0.01580526, -0.01666491,\n",
       "       -0.00981369, -0.01716371,  0.00863058,  0.00011721, -0.01201563,\n",
       "       -0.0151284 , -0.00537936,  0.04650443,  0.00124346,  0.04021746,\n",
       "        0.01450912,  0.01459438, -0.02707228,  0.02841367, -0.00098497,\n",
       "       -0.01963434, -0.00832572,  0.00547535, -0.00221109,  0.0355178 ,\n",
       "        0.0146007 ,  0.02367599,  0.03079355,  0.01515774,  0.00082253,\n",
       "        0.01193515, -0.00463791, -0.00021382, -0.00556054, -0.01892782],\n",
       "      dtype=float32)"
      ]
     },
     "execution_count": 25,
     "metadata": {},
     "output_type": "execute_result"
    }
   ],
   "source": [
    "star_trek_vector   # 영화 스타트렉의 벡터"
   ]
  },
  {
   "cell_type": "code",
   "execution_count": 26,
   "metadata": {
    "id": "rPeOAlAZ5TX2",
    "outputId": "ff56c532-cced-4d0c-db91-0e92e3b91db9"
   },
   "outputs": [
    {
     "data": {
      "text/plain": [
       "0.33905944"
      ]
     },
     "execution_count": 26,
     "metadata": {},
     "output_type": "execute_result"
    }
   ],
   "source": [
    "# 나와 스타트렉의 내적 구하기 (선호 리스트에 있는 영화)\n",
    "np.dot(HajinJ_vector, star_trek_vector)"
   ]
  },
  {
   "cell_type": "code",
   "execution_count": 27,
   "metadata": {
    "id": "NSLb_9lR5TX2",
    "outputId": "de727f60-2a3b-40a8-d3c5-7060622e82b7"
   },
   "outputs": [
    {
     "data": {
      "text/plain": [
       "0.022918968"
      ]
     },
     "execution_count": 27,
     "metadata": {},
     "output_type": "execute_result"
    }
   ],
   "source": [
    "# 다른 영화에 대한 선호도 예측 (선호 리스트에 없는 영화)\n",
    "matrix = movie_to_idx['Third Man, The (1949)']\n",
    "matrix_vector = als_model.item_factors[matrix]\n",
    "np.dot(HajinJ_vector, matrix_vector)"
   ]
  },
  {
   "cell_type": "markdown",
   "metadata": {
    "id": "FJFYXSfH5TX3"
   },
   "source": [
    "## 7. 내가 좋아하는 영화와 비슷한 영화 추천"
   ]
  },
  {
   "cell_type": "code",
   "execution_count": 28,
   "metadata": {
    "id": "59Ls2Knb5TX3",
    "outputId": "4182b877-1f22-454b-aaf3-3024a3af3723"
   },
   "outputs": [
    {
     "data": {
      "text/plain": [
       "[(44, 1.0000001),\n",
       " (117, 0.87169737),\n",
       " (64, 0.7604658),\n",
       " (120, 0.71265656),\n",
       " (193, 0.49412188),\n",
       " (60, 0.479984),\n",
       " (200, 0.4590344),\n",
       " (124, 0.44625583),\n",
       " (22, 0.43014985),\n",
       " (26, 0.42167404),\n",
       " (172, 0.3809474),\n",
       " (92, 0.37266546),\n",
       " (5, 0.36220098),\n",
       " (197, 0.3618748),\n",
       " (3499, 0.35315493)]"
      ]
     },
     "execution_count": 28,
     "metadata": {},
     "output_type": "execute_result"
    }
   ],
   "source": [
    "favorite_movie = 'Star Wars: Episode IV - A New Hope (1977)'\n",
    "movie_id = movie_to_idx[favorite_movie]\n",
    "similar_movie = als_model.similar_items(movie_id, N=15)\n",
    "similar_movie   # (movie idx, 유사도) Tuple"
   ]
  },
  {
   "cell_type": "code",
   "execution_count": 29,
   "metadata": {
    "id": "sVOjt0yX5TX3",
    "outputId": "3342e7d2-701b-4495-ffda-f7133e3848e3"
   },
   "outputs": [
    {
     "data": {
      "text/plain": [
       "['Star Wars: Episode IV - A New Hope (1977)',\n",
       " 'Star Wars: Episode V - The Empire Strikes Back (1980)',\n",
       " 'Star Wars: Episode VI - Return of the Jedi (1983)',\n",
       " 'Raiders of the Lost Ark (1981)',\n",
       " 'Alien (1979)',\n",
       " 'Star Wars: Episode I - The Phantom Menace (1999)',\n",
       " 'Terminator, The (1984)',\n",
       " 'Matrix, The (1999)',\n",
       " 'Back to the Future (1985)',\n",
       " 'E.T. the Extra-Terrestrial (1982)',\n",
       " 'Indiana Jones and the Last Crusade (1989)',\n",
       " 'Terminator 2: Judgment Day (1991)',\n",
       " 'Princess Bride, The (1987)',\n",
       " 'Jaws (1975)',\n",
       " 'Simon Sez (1999)']"
      ]
     },
     "execution_count": 29,
     "metadata": {},
     "output_type": "execute_result"
    }
   ],
   "source": [
    "# movie_to_idx 를 뒤집어, index로부터 movie 이름을 얻는 dict를 생성합니다. \n",
    "idx_to_movie = {v:k for k,v in movie_to_idx.items()}\n",
    "[idx_to_movie[i[0]] for i in similar_movie]"
   ]
  },
  {
   "cell_type": "code",
   "execution_count": 30,
   "metadata": {
    "id": "_lZ5tJjy5TX3"
   },
   "outputs": [],
   "source": [
    "# 비슷한 영화를 알려주는 함수\n",
    "def get_similar_movie(movie_title: str):\n",
    "    movie_id = movie_to_idx[movie_title]\n",
    "    similar_movie = als_model.similar_items(movie_id)\n",
    "    similar_movie = [idx_to_movie[i[0]] for i in similar_movie]\n",
    "    return similar_movie"
   ]
  },
  {
   "cell_type": "code",
   "execution_count": 31,
   "metadata": {
    "id": "JZ86WpTq5TX3",
    "outputId": "4649d4f8-7e06-426f-c411-6384cad77b5a"
   },
   "outputs": [
    {
     "data": {
      "text/plain": [
       "['E.T. the Extra-Terrestrial (1982)',\n",
       " 'Close Encounters of the Third Kind (1977)',\n",
       " 'Back to the Future (1985)',\n",
       " 'Dark Crystal, The (1982)',\n",
       " 'Star Wars: Episode V - The Empire Strikes Back (1980)',\n",
       " 'Big (1988)',\n",
       " 'Star Wars: Episode IV - A New Hope (1977)',\n",
       " 'Time Bandits (1981)',\n",
       " 'Honey, I Shrunk the Kids (1989)',\n",
       " 'Driving Miss Daisy (1989)']"
      ]
     },
     "execution_count": 31,
     "metadata": {},
     "output_type": "execute_result"
    }
   ],
   "source": [
    "get_similar_movie('E.T. the Extra-Terrestrial (1982)')"
   ]
  },
  {
   "cell_type": "code",
   "execution_count": 32,
   "metadata": {
    "id": "HX2uKvkc5TX3",
    "outputId": "d2cb4d28-4b5f-4ebf-9905-0331f5cc1631"
   },
   "outputs": [
    {
     "data": {
      "text/plain": [
       "['Forrest Gump (1994)',\n",
       " 'Groundhog Day (1993)',\n",
       " 'Pretty Woman (1990)',\n",
       " 'Ghost (1990)',\n",
       " 'Sleepless in Seattle (1993)',\n",
       " 'Four Weddings and a Funeral (1994)',\n",
       " 'As Good As It Gets (1997)',\n",
       " 'Notting Hill (1999)',\n",
       " 'Clueless (1995)',\n",
       " \"You've Got Mail (1998)\"]"
      ]
     },
     "execution_count": 32,
     "metadata": {},
     "output_type": "execute_result"
    }
   ],
   "source": [
    "get_similar_movie('Forrest Gump (1994)')"
   ]
  },
  {
   "cell_type": "markdown",
   "metadata": {
    "id": "H5qY5q-j5TX4"
   },
   "source": [
    "## 8. 내가 가장 좋아할 만한 영화 추천"
   ]
  },
  {
   "cell_type": "code",
   "execution_count": 33,
   "metadata": {
    "id": "nSk4_kh_5TX4",
    "outputId": "eab9a2c0-88b0-421e-ed77-e329a1dfac03"
   },
   "outputs": [
    {
     "data": {
      "text/plain": [
       "[(113, 0.31122503),\n",
       " (471, 0.29369858),\n",
       " (699, 0.2849601),\n",
       " (584, 0.23399968),\n",
       " (586, 0.20780495),\n",
       " (581, 0.18203303),\n",
       " (583, 0.1774892),\n",
       " (1164, 0.17277713),\n",
       " (47, 0.14742175),\n",
       " (1109, 0.14436877),\n",
       " (100, 0.14012533),\n",
       " (60, 0.1278432),\n",
       " (876, 0.12688604),\n",
       " (544, 0.12650177),\n",
       " (569, 0.121323965),\n",
       " (1283, 0.11643197),\n",
       " (1505, 0.111143604),\n",
       " (58, 0.1098975),\n",
       " (2325, 0.106759146),\n",
       " (630, 0.10560131)]"
      ]
     },
     "execution_count": 33,
     "metadata": {},
     "output_type": "execute_result"
    }
   ],
   "source": [
    "user = user_to_idx['HajinJ']\n",
    "# recommend에서는 user*item CSR Matrix를 받습니다.\n",
    "movie_recommended = als_model.recommend(user, csr_data, N=20, filter_already_liked_items=True)\n",
    "movie_recommended"
   ]
  },
  {
   "cell_type": "code",
   "execution_count": 34,
   "metadata": {
    "id": "Prcd3Pj65TX4",
    "outputId": "5da08897-44ce-42ad-9b10-1d5aa6d2eae3"
   },
   "outputs": [
    {
     "data": {
      "text/plain": [
       "['Star Trek VI: The Undiscovered Country (1991)',\n",
       " 'Star Trek: First Contact (1996)',\n",
       " 'Star Trek: Insurrection (1998)',\n",
       " 'Star Trek III: The Search for Spock (1984)',\n",
       " 'Star Trek IV: The Voyage Home (1986)',\n",
       " 'Star Trek: The Motion Picture (1979)',\n",
       " 'Star Trek: The Wrath of Khan (1982)',\n",
       " 'Star Trek V: The Final Frontier (1989)',\n",
       " 'To Kill a Mockingbird (1962)',\n",
       " 'Vertigo (1958)',\n",
       " 'Amadeus (1984)',\n",
       " 'Star Wars: Episode I - The Phantom Menace (1999)',\n",
       " '2010 (1984)',\n",
       " 'Stargate (1994)',\n",
       " 'Rear Window (1954)',\n",
       " 'Inherit the Wind (1960)',\n",
       " 'Stalag 17 (1953)',\n",
       " 'Mission: Impossible (1996)',\n",
       " 'Anatomy of a Murder (1959)',\n",
       " 'Mr. Smith Goes to Washington (1939)']"
      ]
     },
     "execution_count": 34,
     "metadata": {},
     "output_type": "execute_result"
    }
   ],
   "source": [
    "# 인덱스를 영화 제목으로 변환\n",
    "[idx_to_movie[i[0]] for i in movie_recommended]"
   ]
  },
  {
   "cell_type": "code",
   "execution_count": 35,
   "metadata": {
    "id": "3l7pLJu35TX4",
    "outputId": "4b1c1249-88ec-4724-d094-79095ef80ea8"
   },
   "outputs": [
    {
     "data": {
      "text/plain": [
       "[('12 Angry Men (1957)', 0.05942055730702799),\n",
       " ('Orlando (1993)', 0.003193649694773048),\n",
       " (\"Pharaoh's Army (1995)\", 0.0004475744231371138),\n",
       " ('If Lucy Fell (1996)', -0.0003257948523664235),\n",
       " ('Star Trek: Generations (1994)', -0.03739403022328118)]"
      ]
     },
     "execution_count": 35,
     "metadata": {},
     "output_type": "execute_result"
    }
   ],
   "source": [
    "# 사용자가 기록을 남긴 데이터가 특정 영화 추천에 기여한 정도를 확인\n",
    "recommended = movie_to_idx['Back to the Future (1985)']\n",
    "explain = als_model.explain(user, csr_data, itemid=recommended)\n",
    "\n",
    "[(idx_to_movie[i[0]], i[1]) for i in explain[1]]"
   ]
  },
  {
   "cell_type": "markdown",
   "metadata": {
    "id": "qlAxnSQN5TX4"
   },
   "source": [
    "***\n",
    "# 프로젝트 정리\n",
    "- **favorite 리스트에 넣었던 영화 'Star Wars'과의 벡터 내적은 비교적 높았고, 선호 리스트에 넣지 않은 영화 'Third Man'와의 벡터 내적은 비교적 낮았다. 내가 좋아하는 영화와 비슷한 영화 추천도 액션이면 액션, SF면 SF 등 유사한 장르의 영화가 추천되었다. 그리고 내가 좋아할 만한 영화 추천 목록에도 실제로 보고 싶은 영화들이 포함되어 있어 추천 모델의 성능이 꽤 괜찮은 것 같았다."
   ]
  }
 ],
 "metadata": {
  "colab": {
   "name": "E8_movie_recommendation.ipynb",
   "provenance": []
  },
  "kernelspec": {
   "display_name": "Python 3 (ipykernel)",
   "language": "python",
   "name": "python3"
  },
  "language_info": {
   "codemirror_mode": {
    "name": "ipython",
    "version": 3
   },
   "file_extension": ".py",
   "mimetype": "text/x-python",
   "name": "python",
   "nbconvert_exporter": "python",
   "pygments_lexer": "ipython3",
   "version": "3.9.7"
  }
 },
 "nbformat": 4,
 "nbformat_minor": 1
}
